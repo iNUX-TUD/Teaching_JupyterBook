{
 "cells": [
  {
   "cell_type": "markdown",
   "metadata": {},
   "source": [
    "# Test and demonstration notebook for Javascript quiz tool\n",
    "\n",
    "> The following content is taken from the juypterquiz documentation (see [here](https://github.com/jmshea/jupyterquiz/blob/main/test.ipynb))\n",
    "\n",
    "This notebook tests and demonstrates the jupyterquiz library and its use. It draws from a set of example questions that show the supported capabilities of the jupyterquiz library.\n",
    "\n",
    "In particular, this notebook also serves to test different ways for the library to load questions:\n",
    "1. **From a URL:** This is the preferred approach. It will embed a copy of the questions in your Jupyter notebook (and Jupyter book), but it will also try to load the latest version of the questions from the URL via Javascript at page load time. If the questions cannot be loaded from the URL, the stored versions will be used as a fallback.\n",
    "2. **From a JSON File:** This may be more convenient for local testing.\n",
    "3. **From a Python Dict:** This is probably the best path for testing new questions because they can be added and tested within a Jupyter notebook.\n",
    "\n",
    "jupyterquiz supports drawing a random subset of questions, and that is also tested."
   ]
  },
  {
   "cell_type": "code",
   "execution_count": 10,
   "metadata": {
    "tags": [
     "remove-input"
    ]
   },
   "outputs": [],
   "source": [
    "from jupyterquiz import display_quiz\n",
    "\n",
    "git_path=\"https://raw.githubusercontent.com/jmshea/jupyterquiz/main/examples/\""
   ]
  },
  {
   "cell_type": "markdown",
   "metadata": {},
   "source": [
    "## Test all question types, standard URL loading method:"
   ]
  },
  {
   "cell_type": "code",
   "execution_count": null,
   "metadata": {},
   "outputs": [],
   "source": [
    "display_quiz(git_path+\"questions.json\")"
   ]
  },
  {
   "cell_type": "markdown",
   "metadata": {},
   "source": [
    "# Test loading all questions from file:"
   ]
  },
  {
   "cell_type": "code",
   "execution_count": null,
   "metadata": {},
   "outputs": [],
   "source": [
    "display_quiz(\"questions.json\")"
   ]
  },
  {
   "cell_type": "markdown",
   "metadata": {},
   "source": [
    "# Test loading questions from dict (this is for more rapid question generation and testing)"
   ]
  },
  {
   "cell_type": "markdown",
   "metadata": {},
   "source": [
    "import json\n",
    "with open(\"questions.json\", \"r\") as file:\n",
    "    questions=json.load(file)\n",
    "    \n",
    "display_quiz(questions)"
   ]
  },
  {
   "cell_type": "code",
   "execution_count": 5,
   "metadata": {},
   "outputs": [],
   "source": [
    "# #Leave this here for when doing question development\n",
    "\n",
    "# import json\n",
    "# with open(\"examples/questions.json\", \"w\") as file:\n",
    "#     json.dump(questions, file, indent=4)"
   ]
  },
  {
   "cell_type": "markdown",
   "metadata": {},
   "source": [
    "## Test sampling from questions:"
   ]
  },
  {
   "cell_type": "code",
   "execution_count": null,
   "metadata": {},
   "outputs": [],
   "source": [
    "display_quiz(git_path+\"questions.json\",2)"
   ]
  },
  {
   "cell_type": "code",
   "execution_count": 7,
   "metadata": {},
   "outputs": [],
   "source": [
    "github_preview=[questions[0]]+[questions[2]]"
   ]
  },
  {
   "cell_type": "code",
   "execution_count": null,
   "metadata": {},
   "outputs": [],
   "source": [
    "display_quiz(github_preview)"
   ]
  }
 ],
 "metadata": {
  "finalized": {
   "timestamp": 1622215912635,
   "trusted": true
  },
  "kernelspec": {
   "display_name": "Python 3 (ipykernel)",
   "language": "python",
   "name": "python3"
  },
  "language_info": {
   "codemirror_mode": {
    "name": "ipython",
    "version": 3
   },
   "file_extension": ".py",
   "mimetype": "text/x-python",
   "name": "python",
   "nbconvert_exporter": "python",
   "pygments_lexer": "ipython3",
   "version": "3.10.4"
  }
 },
 "nbformat": 4,
 "nbformat_minor": 4
}