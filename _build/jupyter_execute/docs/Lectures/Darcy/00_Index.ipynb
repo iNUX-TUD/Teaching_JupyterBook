{
 "cells": [
  {
   "cell_type": "markdown",
   "id": "6c4b7e41",
   "metadata": {},
   "source": [
    "# About\n",
    "In this course you will learn more about Darcy's Law."
   ]
  }
 ],
 "metadata": {
  "kernelspec": {
   "display_name": "Python 3 (ipykernel)",
   "language": "python",
   "name": "python3"
  },
  "language_info": {
   "codemirror_mode": {
    "name": "ipython",
    "version": 3
   },
   "file_extension": ".py",
   "mimetype": "text/x-python",
   "name": "python",
   "nbconvert_exporter": "python",
   "pygments_lexer": "ipython3",
   "version": "3.10.4"
  }
 },
 "nbformat": 4,
 "nbformat_minor": 5
}