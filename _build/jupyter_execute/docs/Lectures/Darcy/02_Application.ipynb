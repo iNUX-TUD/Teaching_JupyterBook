{
 "cells": [
  {
   "cell_type": "markdown",
   "id": "ea9bd54a",
   "metadata": {},
   "source": [
    "# Application of Darcy's Law\n",
    "\n",
    "## 1. Application to a column of porous media\n",
    "Watch the video about how Darcy's Law can describe the flow in porous media."
   ]
  },
  {
   "cell_type": "code",
   "execution_count": 1,
   "id": "434e92fd",
   "metadata": {
    "tags": [
     "remove-input"
    ]
   },
   "outputs": [
    {
     "data": {
      "text/html": [
       "<iframe width=\"560\" height=\"315\" src=\"https://www.youtube.com/embed/KPmklXGd-18\" allowfullscreen></iframe>\n"
      ],
      "text/plain": [
       "<IPython.core.display.HTML object>"
      ]
     },
     "metadata": {},
     "output_type": "display_data"
    }
   ],
   "source": [
    "%%HTML\n",
    "<iframe width=\"560\" height=\"315\" src=\"https://www.youtube.com/embed/KPmklXGd-18\" allowfullscreen></iframe>"
   ]
  },
  {
   "cell_type": "markdown",
   "id": "1f5846cd",
   "metadata": {},
   "source": [
    "Now it is your turn to do the same experiment! Play around with the parameters to understand their role in Darcy's law. Also consider that you can change the composition of the porous medium. In the next section you will be asked questions to test your knowledge."
   ]
  },
  {
   "cell_type": "code",
   "execution_count": 9,
   "id": "69e500c3",
   "metadata": {
    "tags": [
     "thebe-init"
    ]
   },
   "outputs": [],
   "source": [
    "# Import necessary packages\n",
    "\n",
    "import matplotlib.pyplot as plt\n",
    "from matplotlib.patches import Rectangle, Polygon\n",
    "import numpy as np\n",
    "import json\n",
    "from ipywidgets import *\n",
    "from IPython.display import display,clear_output\n",
    "import urllib.request"
   ]
  },
  {
   "cell_type": "code",
   "execution_count": 10,
   "id": "824c6060",
   "metadata": {
    "tags": [
     "thebe-init"
    ]
   },
   "outputs": [],
   "source": [
    "# Define the language in the plot\n",
    "\n",
    "# being supported are \"english\" or \"german\"\n",
    "language = \"english\""
   ]
  },
  {
   "cell_type": "code",
   "execution_count": 11,
   "id": "45c63894",
   "metadata": {
    "tags": [
     "thebe-init"
    ]
   },
   "outputs": [],
   "source": [
    "# Import language\n",
    "with urllib.request.urlopen(\"https://www.dropbox.com/s/citzs2zds2bihlh/test.txt?dl=1\") as url:\n",
    "    lang_dict = json.load(url)\n",
    "\n",
    "if language==\"english\":\n",
    "    ylabel = lang_dict[\"Druckpotential\"] + \" (m)\"\n",
    "elif language==\"german\":\n",
    "    ylabel = \"Druckpotential\" + \" (m)\"\n",
    "else:\n",
    "    raise Exception(f\"{language} is currently not a supported language!\")"
   ]
  },
  {
   "cell_type": "code",
   "execution_count": 6,
   "id": "e5d60eb3",
   "metadata": {
    "tags": [
     "thebe-init"
    ]
   },
   "outputs": [],
   "source": [
    "# Define variables needed\n",
    "\n",
    "material_dict= {\n",
    "        \"Sand\":{\n",
    "            \"color\":\"gold\",\n",
    "            \"k\":1E-4\n",
    "        },\n",
    "        \"Gravel\":{\n",
    "            \"color\":\"gray\",\n",
    "            \"k\":1E-2\n",
    "        },\n",
    "        \"Clay\":{\n",
    "            \"color\":\"peru\",\n",
    "            \"k\":1E-6\n",
    "        }\n",
    "    }"
   ]
  },
  {
   "cell_type": "code",
   "execution_count": 7,
   "id": "841d26dc",
   "metadata": {
    "tags": [
     "thebe-init"
    ]
   },
   "outputs": [],
   "source": [
    "# Define functions needed\n",
    "\n",
    "def plot_triangle(x, y, ax, stretch):\n",
    "    \"\"\"\n",
    "    Plot a water triangle\n",
    "    \n",
    "    Keyword Arguments:\n",
    "    x -- x postion of triangle tip (water table)\n",
    "    y -- y position of triangle tip\n",
    "    ax -- axes to plot on\n",
    "    stetch -- height and half the base length of the symmetric triangle\n",
    "    \"\"\"\n",
    "    tgl = [[x, y],[x - stretch, y + stretch],[x + stretch, y + stretch]]\n",
    "    ax.add_patch(Polygon(tgl))\n",
    "    ax.hlines(y, x - stretch, x + stretch)\n",
    "    ax.hlines(y - stretch * 0.5, x - stretch * 0.66, x + stretch * 0.66)\n",
    "    ax.hlines(y - stretch, x - stretch * 0.33, x + stretch * 0.33)\n",
    "    \n",
    "\n",
    "def plot_darcy_column(h1, h2, material):\n",
    "    \"\"\"\n",
    "    Plot a Darcy column\n",
    "    \n",
    "    Keyword Arguments:\n",
    "    h1 -- head inside column, m\n",
    "    h2 -- head of outlet, m\n",
    "    material -- material inside column. Defined by material_dict\n",
    "    \n",
    "    TODO: Avoid globaliszing variables to speak to observation plot\n",
    "    \"\"\"\n",
    "    \n",
    "    global q, h1_out, h2_out\n",
    "    h1_out = h1\n",
    "    h2_out = h2\n",
    "    \n",
    "    # Prepare plot\n",
    "    fig = plt.figure(figsize=(10,10))\n",
    "    ax = plt.subplot(111)\n",
    "    ax.get_xaxis().set_visible(False)\n",
    "    ax.set_aspect(\"equal\")\n",
    "    ax.spines['top'].set_visible(False)\n",
    "    ax.spines['right'].set_visible(False)\n",
    "    ax.spines['bottom'].set_visible(False)\n",
    "    ax.set_ylabel(ylabel, fontsize=13)\n",
    "    \n",
    "    # Define lenghts in m\n",
    "    column_height = 15\n",
    "    column_width = 5\n",
    "    sediment_height = 5\n",
    "    distance_gauge_column = gauge_width = 0.9\n",
    "    overlap_left = 0.5\n",
    "    arrow_length_max = 2.\n",
    "    arrow_width_max = .3\n",
    "    \n",
    "    # Define verticies\n",
    "    p1 = (0, column_height)\n",
    "    p2 = (column_width, column_height)\n",
    "    p3 = (column_width, gauge_width)\n",
    "    p4 = (column_width + distance_gauge_column, gauge_width)\n",
    "    p5 = (column_width + distance_gauge_column, gauge_width + h2)\n",
    "    p6 = (column_width + distance_gauge_column + gauge_width + overlap_left, gauge_width + h2)\n",
    "    p7 = (column_width + distance_gauge_column + gauge_width + overlap_left, h2)\n",
    "    p8 = (column_width + distance_gauge_column + gauge_width, h2)\n",
    "    p9 = (column_width + distance_gauge_column + gauge_width, 0)\n",
    "    p10 = (0,0)\n",
    "    p11 = (column_width,0)\n",
    "    \n",
    "    # Plot material\n",
    "    ax.add_patch(Rectangle((0,0), sediment_height, column_width,\n",
    "                 color = material_dict[material][\"color\"]))\n",
    "    \n",
    "    # Plot water column\n",
    "    ax.add_patch(Rectangle((0,sediment_height), column_width, h1 - sediment_height,\n",
    "                 color = \"skyblue\", alpha=0.8))\n",
    "    \n",
    "    # Plot lengths\n",
    "    shape = [p2, p3, p4, p5, p6, p7, p8, p9, p10, p1]\n",
    "    x, y = zip(*shape)\n",
    "    plt.plot(x, y, c=\"black\")\n",
    "    \n",
    "    # add triangle\n",
    "    stretch = column_width * 0.05\n",
    "    x_dist = column_width / 2\n",
    "    plot_triangle(x_dist, h1, ax, stretch)\n",
    "    \n",
    "    \n",
    "    if h1 > h2:\n",
    "        # Calculate discharge after Darcy\n",
    "        q = material_dict[material][\"k\"] * (h1 - h2)\n",
    "        q_max = material_dict[material][\"k\"] * column_height\n",
    "        # Plot arrow for discharge\n",
    "        arrow_length = arrow_length_max * q / q_max\n",
    "        arrow_width = arrow_width_max * q / q_max\n",
    "        plt.arrow(p6[0],\n",
    "                 h2 + 0.5 * gauge_width, arrow_length, 0,\n",
    "                 length_includes_head = True,\n",
    "                 width = arrow_width)\n",
    "        txt = \"Q = \" + str(round(q, 6)) + r\" $\\frac{m^3}{s}$\"\n",
    "        plt.text(p6[0] + arrow_length,p6[1], txt, fontsize=13)\n",
    "        gauge = [p3, p4, p5, p6, p7, p8, p9, p11]\n",
    "    else:\n",
    "        p12 = (column_width+distance_gauge_column,h1)\n",
    "        p13 = (column_width+distance_gauge_column+gauge_width,h1)\n",
    "        plt.hlines(p12[1], p12[0],p13[0])\n",
    "        x_dist = column_width + distance_gauge_column + gauge_width / 2\n",
    "        plot_triangle(x_dist, h1, ax, stretch)\n",
    "        gauge = [p3, p4,p12, p13,p9, p11]\n",
    "    ax.add_patch(Polygon(gauge, color=\"skyblue\", alpha=0.8))\n",
    "    "
   ]
  },
  {
   "cell_type": "code",
   "execution_count": 8,
   "id": "311453e8",
   "metadata": {
    "tags": [
     "thebe-init"
    ]
   },
   "outputs": [
    {
     "data": {
      "application/vnd.jupyter.widget-view+json": {
       "model_id": "9c0705dcfd0b48ae91770ce607450bab",
       "version_major": 2,
       "version_minor": 0
      },
      "text/plain": [
       "interactive(children=(BoundedFloatText(value=11.0, description='H1', max=15.0, min=5.0, step=1.0), BoundedFloa…"
      ]
     },
     "metadata": {},
     "output_type": "display_data"
    },
    {
     "data": {
      "text/plain": [
       "<function __main__.plot_darcy_column(h1, h2, material)>"
      ]
     },
     "execution_count": 8,
     "metadata": {},
     "output_type": "execute_result"
    }
   ],
   "source": [
    "# Run interactive plot\n",
    "\n",
    "interact(plot_darcy_column,\n",
    "         h1 = widgets.BoundedFloatText(value=11, min=5, max=15, step=1, description='H1', disabled=False),\n",
    "         h2 = widgets.BoundedFloatText(value=0, min=0, max=15, step=1, description='H2:', disabled=False),\n",
    "         material = widgets.Dropdown(options=material_dict.keys(),value=\"Sand\", description=\"Material\"))\n"
   ]
  },
  {
   "cell_type": "code",
   "execution_count": null,
   "id": "e0c06df1",
   "metadata": {},
   "outputs": [],
   "source": []
  }
 ],
 "metadata": {
  "celltoolbar": "Tags",
  "kernelspec": {
   "display_name": "Python 3 (ipykernel)",
   "language": "python",
   "name": "python3"
  },
  "language_info": {
   "codemirror_mode": {
    "name": "ipython",
    "version": 3
   },
   "file_extension": ".py",
   "mimetype": "text/x-python",
   "name": "python",
   "nbconvert_exporter": "python",
   "pygments_lexer": "ipython3",
   "version": "3.10.4"
  }
 },
 "nbformat": 4,
 "nbformat_minor": 5
}