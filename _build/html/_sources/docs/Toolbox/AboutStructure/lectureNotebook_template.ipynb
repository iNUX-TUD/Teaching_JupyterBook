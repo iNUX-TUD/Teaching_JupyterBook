{
 "cells": [
  {
   "cell_type": "markdown",
   "id": "ffa737c8",
   "metadata": {},
   "source": [
    "<img src='../IMAGES/TUD_logo.png' align='right' width='15%'></img>"
   ]
  },
  {
   "cell_type": "markdown",
   "id": "39f8caed",
   "metadata": {},
   "source": [
    "<a href=\"./(xx-1)_Anyname.ipynb\"><< Previous Notebook</a><span style=\"float:right;\"><a href=\"./(xx+1)_Anyname.ipynb\">Following Notebook>></a></span>"
   ]
  },
  {
   "cell_type": "markdown",
   "id": "ea9bd54a",
   "metadata": {},
   "source": [
    "# Lecture"
   ]
  },
  {
   "cell_type": "markdown",
   "id": "c76de96e",
   "metadata": {},
   "source": [
    "<a href=\"./(xx-1)_Anyname.ipynb\"><< Previous Notebook</a><span style=\"float:right;\"><a href=\"./(xx+1)_Anyname.ipynb\">Following Notebook>></a></span>"
   ]
  },
  {
   "cell_type": "markdown",
   "id": "e1c57d38",
   "metadata": {},
   "source": [
    "<hr>\n",
    "&copy; 2023 | Thomas Reimann\n",
    "<a rel=\"license\" href=\"http://creativecommons.org/licenses/by/4.0/\"><img style=\"float: right\" alt=\"Creative Commons Lizenzvertrag\" style=\"border-width:0\" src=\"https://i.creativecommons.org/l/by/4.0/88x31.png\" /></a>"
   ]
  }
 ],
 "metadata": {
  "kernelspec": {
   "display_name": "Python 3 (ipykernel)",
   "language": "python",
   "name": "python3"
  },
  "language_info": {
   "codemirror_mode": {
    "name": "ipython",
    "version": 3
   },
   "file_extension": ".py",
   "mimetype": "text/x-python",
   "name": "python",
   "nbconvert_exporter": "python",
   "pygments_lexer": "ipython3",
   "version": "3.10.4"
  }
 },
 "nbformat": 4,
 "nbformat_minor": 5
}
