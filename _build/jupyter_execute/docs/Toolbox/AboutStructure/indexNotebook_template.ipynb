{
 "cells": [
  {
   "cell_type": "markdown",
   "id": "6ce0a386",
   "metadata": {},
   "source": [
    "<img src='../IMAGES/TUD_logo.png' align='right' width='15%'></img>"
   ]
  },
  {
   "cell_type": "markdown",
   "id": "6c4b7e41",
   "metadata": {},
   "source": [
    "# About\n",
    "Summary of the topic\n",
    "\n",
    "# Learning Outcome\n",
    "Describing the learning outcome after completing this lecture unit. Is there any prior knowledge or lecture unit required?\n",
    "\n",
    "# Content\n",
    "\n",
    "* [Name of the notebook shown in ToC](xx_Anyname.ipynb)"
   ]
  },
  {
   "cell_type": "markdown",
   "id": "14418808",
   "metadata": {},
   "source": [
    "<hr>\n",
    "&copy; 2023 | Thomas Reimann\n",
    "<a rel=\"license\" href=\"http://creativecommons.org/licenses/by/4.0/\"><img style=\"float: right\" alt=\"Creative Commons Lizenzvertrag\" style=\"border-width:0\" src=\"https://i.creativecommons.org/l/by/4.0/88x31.png\" /></a>"
   ]
  }
 ],
 "metadata": {
  "kernelspec": {
   "display_name": "Python 3 (ipykernel)",
   "language": "python",
   "name": "python3"
  },
  "language_info": {
   "codemirror_mode": {
    "name": "ipython",
    "version": 3
   },
   "file_extension": ".py",
   "mimetype": "text/x-python",
   "name": "python",
   "nbconvert_exporter": "python",
   "pygments_lexer": "ipython3",
   "version": "3.10.4"
  }
 },
 "nbformat": 4,
 "nbformat_minor": 5
}