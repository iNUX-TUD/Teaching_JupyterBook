{
 "cells": [
  {
   "cell_type": "markdown",
   "id": "d8bc15d6",
   "metadata": {},
   "source": [
    "# Statement of Darcy's Law\n",
    "\n",
    "By the mid-19th Century Henry Darcy proposed a theory that relates hydraulic head with the flux of water through a porous medium. This is known as Darcy's Law, here for 1D:\n",
    "\n",
    "$q = -\\frac{h_2 - h_1}{x_2 - x_1} k = -\\frac{\\Delta h}{\\Delta x} k$\n",
    "\n",
    "Darcy's Law constitutes one of the most important laws to describe groundwater flow. In this formula $x_1$ and $x_2$ describe the position of the two applied hydraulic heads $h_1$ and $h_2$, respectively. $q$ is the resulting flux through the medium. $k$ is the so-called hydraulic conductivity. In the next section you will learn more about the meaning and application of Darcy's Law and its constituents.\n"
   ]
  }
 ],
 "metadata": {
  "kernelspec": {
   "display_name": "Python 3 (ipykernel)",
   "language": "python",
   "name": "python3"
  },
  "language_info": {
   "codemirror_mode": {
    "name": "ipython",
    "version": 3
   },
   "file_extension": ".py",
   "mimetype": "text/x-python",
   "name": "python",
   "nbconvert_exporter": "python",
   "pygments_lexer": "ipython3",
   "version": "3.10.4"
  }
 },
 "nbformat": 4,
 "nbformat_minor": 5
}